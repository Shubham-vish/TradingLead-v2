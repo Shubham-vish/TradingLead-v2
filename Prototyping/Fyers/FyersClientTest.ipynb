{
 "cells": [
  {
   "cell_type": "code",
   "execution_count": 1,
   "metadata": {},
   "outputs": [
    {
     "name": "stdout",
     "output_type": "stream",
     "text": [
      "FUNCTIONS_WORKER_RUNTIME: python\n",
      "pythonPath: C:\\Users\\Shubham Vishwakarma\\AppData\\Local\\Microsoft\\WindowsApps\\python.exe\n",
      "APPINSIGHTS_INSTRUMENTATIONKEY: f0cd5280-7f75-4c2e-9e92-93bc75b8a8c4\n",
      "APPINSIGHTS_ConnectionString: InstrumentationKey=f0cd5280-7f75-4c2e-9e92-93bc75b8a8c4\n",
      "KEY_VAULT_URI: https://kv-tradinglead.vault.azure.net/\n",
      "TelemetryPropApp: TradingLead - Backend Function App\n",
      "TelemetryPropEnv: local\n",
      "TelemetryPropVersion: 1.0.0\n",
      "TelemetryPropService: TradingLead - General Service\n",
      "SCHEDULE_CRON_FOR_ACCESS_TOKEN_GENERATOR: 0 * * * * *\n",
      "SCHEDULE_CRON_FOR_PARTICIPATION_DATA_STORE: 0 */10 * * * *\n",
      "NumberOfDataParticipationDataToBeFetched: 20\n"
     ]
    }
   ],
   "source": [
    "import os\n",
    "import sys\n",
    "\n",
    "sys.path.append(os.path.abspath(os.path.join('../../..')))\n",
    "\n",
    "from Prototyping.setupConfig import setup_config\n",
    "setup_config()"
   ]
  },
  {
   "cell_type": "code",
   "execution_count": 2,
   "metadata": {},
   "outputs": [
    {
     "name": "stderr",
     "output_type": "stream",
     "text": [
      "Failed to integrate module: opencensus.ext.logging.trace\n",
      "No module named 'opencensus.ext.logging'\n",
      "DeprecationWarning: Explicitly using instrumentation key isdeprecated. Please use a connection string instead.\n",
      "DeprecationWarning: Explicitly using instrumentation key isdeprecated. Please use a connection string instead.\n",
      "DeprecationWarning: Explicitly using instrumentation key isdeprecated. Please use a connection string instead.\n"
     ]
    }
   ],
   "source": [
    "from SharedCode.Repository.AccessToken.access_token import get_fyers_access_token\n",
    "import json\n",
    "import time\n",
    "from SharedCode.Repository.KeyVault.keyvault_service import KeyVaultService\n",
    "from SharedCode.Repository.Logger.logger_service import LoggerService\n",
    "from SharedCode.Repository.Cache.redis_cache_service import RedisCacheService\n",
    "from SharedCode.Utils.constants import Constants\n",
    "import concurrent.futures\n",
    "from SharedCode.Repository.Fyers.fyers_client_factory import FyersClientFactory\n",
    "from SharedCode.Repository.Fyers.fyers_service import FyersService\n",
    "\n",
    "kv_service = KeyVaultService()\n",
    "telemetry = LoggerService()\n",
    "redis_cache_service = RedisCacheService()"
   ]
  },
  {
   "cell_type": "code",
   "execution_count": 3,
   "metadata": {},
   "outputs": [],
   "source": [
    "operation_id = \"RandomOperationId\"\n",
    "\n",
    "tel_props = {\n",
    "        Constants.SERVICE : Constants.access_token_generator_service,\n",
    "        Constants.operation_id : operation_id,\n",
    "    }\n",
    "\n",
    "fyer_users_json = kv_service.get_secret(\"FyerUserDetails\")\n",
    "telemetry.info(fyer_users_json, tel_props)\n",
    "fyer_users = json.loads(fyer_users_json)\n",
    "results = []"
   ]
  },
  {
   "cell_type": "code",
   "execution_count": 5,
   "metadata": {},
   "outputs": [
    {
     "data": {
      "text/plain": [
       "'[   { \"userId\": \"XS42465\", \"KvSecretName\": \"ShubhamFyersDetails\" },   { \"userId\": \"XJ13618\", \"KvSecretName\": \"JayantFyersDetails\" } ]'"
      ]
     },
     "execution_count": 5,
     "metadata": {},
     "output_type": "execute_result"
    }
   ],
   "source": [
    "fyer_users_json"
   ]
  },
  {
   "cell_type": "code",
   "execution_count": 4,
   "metadata": {},
   "outputs": [],
   "source": [
    "fyers_details_json = kv_service.get_secret(fyer_users[1]['KvSecretName'])\n",
    "fyers_details = json.loads(fyers_details_json)"
   ]
  },
  {
   "cell_type": "code",
   "execution_count": 7,
   "metadata": {},
   "outputs": [
    {
     "data": {
      "text/plain": [
       "{'ClientId': 'EZ0JD38O15-100',\n",
       " 'FyersPin': '1998',\n",
       " 'FyersTotpSecretKey': 'JGN2I5KQXX2FXRZJ2PAT5WJJJDIQXAXC',\n",
       " 'FyersUserName': 'XJ13618',\n",
       " 'RedirectUri': 'https://trade.fyers.in/api-login/redirect-uri/index.html',\n",
       " 'SecretKey': 'EDT0647NIQ',\n",
       " 'ContactNumber': '8839183504'}"
      ]
     },
     "execution_count": 7,
     "metadata": {},
     "output_type": "execute_result"
    }
   ],
   "source": [
    "fyers_details"
   ]
  },
  {
   "cell_type": "code",
   "execution_count": null,
   "metadata": {},
   "outputs": [],
   "source": [
    "\n",
    "client = FyersClientFactory.get_fyers_client(fyers_details)"
   ]
  },
  {
   "cell_type": "code",
   "execution_count": 7,
   "metadata": {},
   "outputs": [],
   "source": [
    "tf=\"60\"\n",
    "ticker_name = \"NSE:SBIN-EQ\"\n",
    "\n",
    "data = {\n",
    "            \"symbol\":ticker_name,\n",
    "            \"resolution\":tf,\n",
    "            \"date_format\":\"1\",\n",
    "            \"range_from\":\"2023-10-10\",\n",
    "            \"range_to\":\"2023-12-30\",\n",
    "            \"cont_flag\":\"1\"\n",
    "        }"
   ]
  },
  {
   "cell_type": "code",
   "execution_count": 11,
   "metadata": {},
   "outputs": [],
   "source": [
    "from datetime import datetime, timedelta\n",
    "range_from = datetime.now() + timedelta(days = 2)\n",
    "range_to = datetime.now() + timedelta(days = -4)\n",
    "\n",
    "range_from = range_from.strftime('%Y-%m-%d')\n",
    "range_to = range_to.strftime('%Y-%m-%d')\n",
    "\n",
    "data = {\n",
    "    \"symbol\":ticker_name,\n",
    "    \"resolution\":tf,\n",
    "    \"date_format\":\"1\",\n",
    "    \"range_from\":range_from,\n",
    "    \"range_to\":range_to,\n",
    "    \"cont_flag\":\"1\"\n",
    "}\n"
   ]
  },
  {
   "cell_type": "code",
   "execution_count": 5,
   "metadata": {},
   "outputs": [],
   "source": [
    "fyerService = FyersService(fyers_details)"
   ]
  },
  {
   "cell_type": "code",
   "execution_count": 8,
   "metadata": {},
   "outputs": [
    {
     "name": "stdout",
     "output_type": "stream",
     "text": [
      "Api response : ok\n"
     ]
    },
    {
     "data": {
      "text/plain": [
       "[611.75,\n",
       " 615.65,\n",
       " 615.7,\n",
       " 614,\n",
       " 612.9,\n",
       " 612.2,\n",
       " 612.85,\n",
       " 614.15,\n",
       " 614,\n",
       " 612.75,\n",
       " 614.05,\n",
       " 618.4,\n",
       " 620.1,\n",
       " 619,\n",
       " 624.65,\n",
       " 624.1,\n",
       " 624.5,\n",
       " 624.5,\n",
       " 623.7,\n",
       " 623.05,\n",
       " 623.65,\n",
       " 625.75,\n",
       " 622.1,\n",
       " 623.75,\n",
       " 626.8,\n",
       " 640.1,\n",
       " 649.4,\n",
       " 648.1]"
      ]
     },
     "execution_count": 8,
     "metadata": {},
     "output_type": "execute_result"
    }
   ],
   "source": [
    "fyerService.get_close_data(ticker_name=ticker_name)"
   ]
  },
  {
   "cell_type": "code",
   "execution_count": null,
   "metadata": {},
   "outputs": [],
   "source": [
    "import datetime\n",
    "from fyers_apiv3 import fyersModel\n",
    "from SharedCode.Repository.Cache.redis_cache_service import RedisCacheService\n",
    "from SharedCode.Utils.constants import Constants\n",
    "from SharedCode.Utils.utility import FunctionUtils"
   ]
  },
  {
   "cell_type": "code",
   "execution_count": null,
   "metadata": {},
   "outputs": [],
   "source": [
    "username = fyers_details[Constants.fyers_username]\n",
    "client_id = fyers_details[Constants.client_id]\n",
    "redis_key = FunctionUtils.get_key_for_user_access_token(username)\n",
    "redis_cache_service = RedisCacheService()\n",
    "access_token_for_user = redis_cache_service.get_decoded_value(redis_key)"
   ]
  },
  {
   "cell_type": "code",
   "execution_count": null,
   "metadata": {},
   "outputs": [],
   "source": [
    "fyersClient = fyersModel.FyersModel(client_id=client_id, is_async=False, token=access_token_for_user, log_path=\"\")"
   ]
  },
  {
   "cell_type": "code",
   "execution_count": null,
   "metadata": {},
   "outputs": [],
   "source": [
    "fyersClient.history(data=data)"
   ]
  }
 ],
 "metadata": {
  "kernelspec": {
   "display_name": "Python 3",
   "language": "python",
   "name": "python3"
  },
  "language_info": {
   "codemirror_mode": {
    "name": "ipython",
    "version": 3
   },
   "file_extension": ".py",
   "mimetype": "text/x-python",
   "name": "python",
   "nbconvert_exporter": "python",
   "pygments_lexer": "ipython3",
   "version": "3.11.7"
  }
 },
 "nbformat": 4,
 "nbformat_minor": 2
}
