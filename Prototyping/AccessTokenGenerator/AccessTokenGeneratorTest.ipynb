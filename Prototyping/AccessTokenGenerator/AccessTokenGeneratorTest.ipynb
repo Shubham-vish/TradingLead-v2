{
 "cells": [
  {
   "cell_type": "code",
   "execution_count": 1,
   "metadata": {},
   "outputs": [
    {
     "name": "stdout",
     "output_type": "stream",
     "text": [
      "FUNCTIONS_WORKER_RUNTIME: python\n",
      "pythonPath: C:\\Users\\Shubham Vishwakarma\\AppData\\Local\\Microsoft\\WindowsApps\\python.exe\n",
      "APPINSIGHTS_INSTRUMENTATIONKEY: f0cd5280-7f75-4c2e-9e92-93bc75b8a8c4\n",
      "APPINSIGHTS_ConnectionString: InstrumentationKey=f0cd5280-7f75-4c2e-9e92-93bc75b8a8c4\n",
      "KEY_VAULT_URI: https://kv-tradinglead.vault.azure.net/\n",
      "TelemetryPropApp: TradingLead - Backend Function App\n",
      "TelemetryPropEnv: local\n",
      "TelemetryPropVersion: 1.0.0\n",
      "TelemetryPropService: TradingLead - General Service\n",
      "SCHEDULE_CRON_FOR_ACCESS_TOKEN_GENERATOR: 0 * * * * *\n",
      "SCHEDULE_CRON_FOR_PARTICIPATION_DATA_STORE: 0 */10 * * * *\n",
      "NumberOfDataParticipationDataToBeFetched: 20\n"
     ]
    }
   ],
   "source": [
    "import os\n",
    "import sys\n",
    "\n",
    "sys.path.append(os.path.abspath(os.path.join('../../..')))\n",
    "\n",
    "from Notebooks.setupConfig import setup_config\n",
    "setup_config()"
   ]
  },
  {
   "cell_type": "code",
   "execution_count": 3,
   "metadata": {},
   "outputs": [
    {
     "name": "stderr",
     "output_type": "stream",
     "text": [
      "Failed to integrate module: opencensus.ext.logging.trace\n",
      "No module named 'opencensus.ext.logging'\n",
      "DeprecationWarning: Explicitly using instrumentation key isdeprecated. Please use a connection string instead.\n",
      "DeprecationWarning: Explicitly using instrumentation key isdeprecated. Please use a connection string instead.\n",
      "DeprecationWarning: Explicitly using instrumentation key isdeprecated. Please use a connection string instead.\n"
     ]
    }
   ],
   "source": [
    "import datetime\n",
    "import azure.functions as func\n",
    "from SharedCode.Repository.Logger.logger_service import LoggerService\n",
    "from SharedCode.Utils.constants import Constants\n",
    "from SharedCode.Utils.utility import FunctionUtils\n",
    "from TimerTriggerForAccessToken.access_token_generator_runner import access_token_generator_runner"
   ]
  },
  {
   "cell_type": "code",
   "execution_count": 4,
   "metadata": {},
   "outputs": [],
   "source": [
    "operation_id = \"RandomOperationId\"\n",
    "\n",
    "tel_props = {\n",
    "        Constants.SERVICE : Constants.access_token_generator_service,\n",
    "        Constants.operation_id : operation_id,\n",
    "    }"
   ]
  },
  {
   "cell_type": "code",
   "execution_count": null,
   "metadata": {},
   "outputs": [],
   "source": [
    "results = access_token_generator_runner(tel_props)"
   ]
  },
  {
   "cell_type": "code",
   "execution_count": null,
   "metadata": {},
   "outputs": [],
   "source": [
    "results"
   ]
  },
  {
   "cell_type": "code",
   "execution_count": null,
   "metadata": {},
   "outputs": [],
   "source": [
    "from SharedCode.Repository.AccessToken.access_token import get_fyers_access_token\n",
    "import json\n",
    "import time\n",
    "from SharedCode.Repository.KeyVault.keyvault_service import KeyVaultService\n",
    "from SharedCode.Repository.Logger.logger_service import LoggerService\n",
    "from SharedCode.Repository.Cache.redis_cache_service import RedisCacheService\n",
    "from SharedCode.Utils.constants import Constants\n",
    "import concurrent.futures\n",
    "\n",
    "\n",
    "kv_service = KeyVaultService()\n",
    "telemetry = LoggerService()\n",
    "redis_cache_service = RedisCacheService()"
   ]
  },
  {
   "cell_type": "code",
   "execution_count": null,
   "metadata": {},
   "outputs": [],
   "source": [
    "fyer_users_json = kv_service.get_secret(\"FyerUserDetails\")\n",
    "telemetry.info(fyer_users_json, tel_props)\n",
    "fyer_users = json.loads(fyer_users_json)\n",
    "results = []"
   ]
  },
  {
   "cell_type": "code",
   "execution_count": null,
   "metadata": {},
   "outputs": [],
   "source": [
    "\n",
    "def fetch_and_store_token(user, tel_props):\n",
    "    max_retries = 3\n",
    "    for attempt in range(max_retries):\n",
    "        try:\n",
    "            fyers_details_json = kv_service.get_secret(user['KvSecretName'])\n",
    "            fyers_details = json.loads(fyers_details_json)\n",
    "            username = fyers_details[Constants.fyers_username]\n",
    "\n",
    "            tel_props.update( {\n",
    "                Constants.username : username,\n",
    "                Constants.client_id : fyers_details[Constants.client_id],\n",
    "                Constants.contact_number : fyers_details[Constants.contact_number],\n",
    "            })\n",
    "            redis_key = f\"{username}-token\"\n",
    "            access_token = get_fyers_access_token(fyers_details, tel_props)\n",
    "            redis_cache_service.set_value(redis_key, access_token)\n",
    "            fetched_token = redis_cache_service.get_value(redis_key)\n",
    "            \n",
    "            telemetry.info(f\"Token stored for {username}, {fetched_token}\", tel_props)\n",
    "            return {\"user\": user, \"fetched_token\": fetched_token}\n",
    "\n",
    "        except Exception as e:\n",
    "            telemetry.exception(f\"Error in fetching access token attempt no. {attempt}.\\nError: {e}\", tel_props)\n",
    "            time.sleep(10)\n",
    "            continue\n",
    "    message = f\"Max retries in main function. Error in fetching access token. for user {username}\"\n",
    "    telemetry.exception(message, tel_props)\n",
    "    raise Exception(message)"
   ]
  },
  {
   "cell_type": "code",
   "execution_count": null,
   "metadata": {},
   "outputs": [],
   "source": [
    "fetch_and_store_token(fyer_users[1], tel_props)"
   ]
  },
  {
   "cell_type": "code",
   "execution_count": null,
   "metadata": {},
   "outputs": [],
   "source": [
    "fyer_users"
   ]
  },
  {
   "cell_type": "code",
   "execution_count": null,
   "metadata": {},
   "outputs": [],
   "source": [
    "fyers_details_json = kv_service.get_secret(fyer_users[1]['KvSecretName'])"
   ]
  },
  {
   "cell_type": "code",
   "execution_count": null,
   "metadata": {},
   "outputs": [],
   "source": [
    "fyers_details = json.loads(fyers_details_json)\n",
    "username = fyers_details[Constants.fyers_username]\n",
    "\n",
    "tel_props.update( {\n",
    "    Constants.username : username,\n",
    "    Constants.client_id : fyers_details[Constants.client_id],\n",
    "    Constants.contact_number : fyers_details[Constants.contact_number],\n",
    "})"
   ]
  },
  {
   "cell_type": "code",
   "execution_count": null,
   "metadata": {},
   "outputs": [],
   "source": [
    "# fyers_details[\"ClientId\"] = 'EZ0JD38O15-100'\n",
    "fyers_details"
   ]
  },
  {
   "cell_type": "code",
   "execution_count": null,
   "metadata": {},
   "outputs": [],
   "source": []
  },
  {
   "cell_type": "code",
   "execution_count": null,
   "metadata": {},
   "outputs": [],
   "source": [
    "access_token = get_fyers_access_token(fyers_details, tel_props)"
   ]
  },
  {
   "cell_type": "code",
   "execution_count": null,
   "metadata": {},
   "outputs": [],
   "source": [
    "fyer_users"
   ]
  },
  {
   "cell_type": "code",
   "execution_count": null,
   "metadata": {},
   "outputs": [],
   "source": [
    "redis_key = \"XJ13618-token\""
   ]
  },
  {
   "cell_type": "code",
   "execution_count": null,
   "metadata": {},
   "outputs": [],
   "source": [
    "redis_cache_service.get_value(redis_key)"
   ]
  }
 ],
 "metadata": {
  "kernelspec": {
   "display_name": "Python 3",
   "language": "python",
   "name": "python3"
  },
  "language_info": {
   "codemirror_mode": {
    "name": "ipython",
    "version": 3
   },
   "file_extension": ".py",
   "mimetype": "text/x-python",
   "name": "python",
   "nbconvert_exporter": "python",
   "pygments_lexer": "ipython3",
   "version": "3.11.7"
  }
 },
 "nbformat": 4,
 "nbformat_minor": 2
}
