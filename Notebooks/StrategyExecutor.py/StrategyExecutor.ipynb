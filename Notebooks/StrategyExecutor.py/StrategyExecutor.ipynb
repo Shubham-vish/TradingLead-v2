{
 "cells": [
  {
   "cell_type": "code",
   "execution_count": 1,
   "metadata": {},
   "outputs": [
    {
     "name": "stdout",
     "output_type": "stream",
     "text": [
      "FUNCTIONS_WORKER_RUNTIME: python\n",
      "pythonPath: C:\\Users\\Shubham Vishwakarma\\AppData\\Local\\Microsoft\\WindowsApps\\python.exe\n",
      "APPINSIGHTS_INSTRUMENTATIONKEY: f0cd5280-7f75-4c2e-9e92-93bc75b8a8c4\n",
      "APPINSIGHTS_ConnectionString: InstrumentationKey=f0cd5280-7f75-4c2e-9e92-93bc75b8a8c4\n",
      "KEY_VAULT_URI: https://kv-tradinglead.vault.azure.net/\n",
      "TelemetryPropApp: TradingLead - Backend Function App\n",
      "TelemetryPropEnv: local\n",
      "TelemetryPropVersion: 1.0.0\n",
      "TelemetryPropService: TradingLead - General Service\n",
      "SCHEDULE_CRON_FOR_ACCESS_TOKEN_GENERATOR: 0 * * * * *\n",
      "SCHEDULE_CRON_FOR_PARTICIPATION_DATA_STORE: 0 */10 * * * *\n",
      "NumberOfDataParticipationDataToBeFetched: 20\n"
     ]
    }
   ],
   "source": [
    "import os\n",
    "import sys\n",
    "\n",
    "sys.path.append(os.path.abspath(os.path.join('../..')))\n",
    "# https://www.youtube.com/watch?v=BJvTASV9Y0o&ab_channel=MaticAlgos\n",
    "from Notebooks.setupConfig import setup_config\n",
    "setup_config()"
   ]
  },
  {
   "cell_type": "code",
   "execution_count": 2,
   "metadata": {},
   "outputs": [
    {
     "name": "stderr",
     "output_type": "stream",
     "text": [
      "Failed to integrate module: opencensus.ext.logging.trace\n",
      "No module named 'opencensus.ext.logging'\n",
      "DeprecationWarning: Explicitly using instrumentation key isdeprecated. Please use a connection string instead.\n",
      "DeprecationWarning: Explicitly using instrumentation key isdeprecated. Please use a connection string instead.\n",
      "DeprecationWarning: Explicitly using instrumentation key isdeprecated. Please use a connection string instead.\n"
     ]
    }
   ],
   "source": [
    "from SharedCode.Repository.AccessToken.access_token import get_fyers_access_token\n",
    "import json\n",
    "import time\n",
    "from SharedCode.Repository.KeyVault.keyvault_service import KeyVaultService\n",
    "from SharedCode.Repository.Logger.logger_service import LoggerService\n",
    "from SharedCode.Repository.Cache.redis_cache_service import RedisCacheService\n",
    "from SharedCode.Repository.Fyers.fyers_client_factory import FyersClientFactory\n",
    "from SharedCode.Repository.Fyers.fyers_service import FyersService\n",
    "from SharedCode.Utils.constants import Constants\n",
    "from Strategies.ml import KernelRegressionStrategy \n",
    "from SharedCode.Utils.math_utils import MathUtils\n",
    "\n",
    "kv_service = KeyVaultService()\n",
    "telemetry = LoggerService()\n",
    "redis_cache_service = RedisCacheService()\n",
    "\n",
    "\n",
    "strategy = KernelRegressionStrategy()"
   ]
  },
  {
   "cell_type": "code",
   "execution_count": 3,
   "metadata": {},
   "outputs": [],
   "source": [
    "operation_id = \"RandomOperationId\"\n",
    "\n",
    "tel_props = {\n",
    "        Constants.SERVICE : Constants.strategy_executor_service,\n",
    "        Constants.operation_id : operation_id,\n",
    "    }\n",
    "\n",
    "fyer_users_json = kv_service.get_secret(\"FyerUserDetails\")\n",
    "fyer_users = json.loads(fyer_users_json)\n",
    "fyers_details_json = kv_service.get_secret(fyer_users[1]['KvSecretName'])\n",
    "fyers_details = json.loads(fyers_details_json)"
   ]
  },
  {
   "cell_type": "code",
   "execution_count": 4,
   "metadata": {},
   "outputs": [],
   "source": [
    "fyerService = FyersService(fyers_details)"
   ]
  },
  {
   "cell_type": "code",
   "execution_count": 16,
   "metadata": {},
   "outputs": [
    {
     "name": "stdout",
     "output_type": "stream",
     "text": [
      "Api response : ok\n"
     ]
    }
   ],
   "source": [
    "close_prices = fyerService.get_close_data(ticker_name=\"NSE:SBIN-EQ\")"
   ]
  },
  {
   "cell_type": "code",
   "execution_count": 10,
   "metadata": {},
   "outputs": [
    {
     "name": "stdout",
     "output_type": "stream",
     "text": [
      "C_cp :  648.1\n",
      "yhat1 :  629.232653716959\n",
      "yhat2 :  631.5765103225208\n"
     ]
    },
    {
     "data": {
      "text/plain": [
       "1"
      ]
     },
     "execution_count": 10,
     "metadata": {},
     "output_type": "execute_result"
    }
   ],
   "source": [
    "\n",
    "strategy.get_order_signal(close_prices, 0)"
   ]
  },
  {
   "cell_type": "code",
   "execution_count": null,
   "metadata": {},
   "outputs": [],
   "source": [
    "# Rest of the code is for debugging purpose only"
   ]
  },
  {
   "cell_type": "code",
   "execution_count": 12,
   "metadata": {},
   "outputs": [],
   "source": [
    "closes = fyerService.history()\n"
   ]
  },
  {
   "cell_type": "code",
   "execution_count": 15,
   "metadata": {},
   "outputs": [
    {
     "data": {
      "text/plain": [
       "[1696909500, 940.4, 946.5, 940.35, 945.35, 1425907]"
      ]
     },
     "execution_count": 15,
     "metadata": {},
     "output_type": "execute_result"
    }
   ],
   "source": [
    "closes[\"candles\"][0]"
   ]
  },
  {
   "cell_type": "code",
   "execution_count": null,
   "metadata": {},
   "outputs": [],
   "source": [
    "import datetime\n",
    "from fyers_apiv3 import fyersModel\n",
    "from SharedCode.Repository.Cache.redis_cache_service import RedisCacheService\n",
    "from SharedCode.Utils.constants import Constants\n",
    "from SharedCode.Utils.utility import FunctionUtils"
   ]
  },
  {
   "cell_type": "code",
   "execution_count": null,
   "metadata": {},
   "outputs": [],
   "source": [
    "username = fyers_details[Constants.fyers_username]\n",
    "client_id = fyers_details[Constants.client_id]\n",
    "redis_key = FunctionUtils.get_key_for_user_access_token(username)\n",
    "redis_cache_service = RedisCacheService()\n",
    "access_token_for_user = redis_cache_service.get_decoded_value(redis_key)"
   ]
  },
  {
   "cell_type": "code",
   "execution_count": null,
   "metadata": {},
   "outputs": [],
   "source": [
    "fyersClient = fyersModel.FyersModel(client_id=client_id, is_async=False, token=access_token_for_user, log_path=\"\")"
   ]
  },
  {
   "cell_type": "code",
   "execution_count": null,
   "metadata": {},
   "outputs": [],
   "source": [
    "fyersClient.history(data=data)"
   ]
  }
 ],
 "metadata": {
  "kernelspec": {
   "display_name": "Python 3",
   "language": "python",
   "name": "python3"
  },
  "language_info": {
   "codemirror_mode": {
    "name": "ipython",
    "version": 3
   },
   "file_extension": ".py",
   "mimetype": "text/x-python",
   "name": "python",
   "nbconvert_exporter": "python",
   "pygments_lexer": "ipython3",
   "version": "3.11.7"
  }
 },
 "nbformat": 4,
 "nbformat_minor": 2
}
