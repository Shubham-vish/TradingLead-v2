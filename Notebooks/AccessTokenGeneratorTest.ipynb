{
 "cells": [
  {
   "cell_type": "code",
   "execution_count": 1,
   "metadata": {},
   "outputs": [
    {
     "name": "stdout",
     "output_type": "stream",
     "text": [
      "FUNCTIONS_WORKER_RUNTIME: python\n",
      "pythonPath: C:\\Users\\Shubham Vishwakarma\\AppData\\Local\\Microsoft\\WindowsApps\\python.exe\n",
      "APPINSIGHTS_INSTRUMENTATIONKEY: f0cd5280-7f75-4c2e-9e92-93bc75b8a8c4\n",
      "APPINSIGHTS_ConnectionString: InstrumentationKey=f0cd5280-7f75-4c2e-9e92-93bc75b8a8c4\n",
      "KEY_VAULT_URI: https://kv-tradinglead.vault.azure.net/\n",
      "TelemetryPropApp: TradingLead - Backend Function App\n",
      "TelemetryPropEnv: local\n",
      "TelemetryPropVersion: 1.0.0\n",
      "TelemetryPropService: TradingLead - General Service\n",
      "SCHEDULE_CRON_FOR_ACCESS_TOKEN_GENERATOR: 0 * * * * *\n"
     ]
    }
   ],
   "source": [
    "# Environment configuration dictionary\n",
    "config = {\n",
    "  \"IsEncrypted\": False,\n",
    "  \"Values\": {\n",
    "    \"FUNCTIONS_WORKER_RUNTIME\": \"python\",\n",
    "    \"pythonPath\": \"C:\\\\Users\\\\Shubham Vishwakarma\\\\AppData\\\\Local\\\\Microsoft\\\\WindowsApps\\\\python.exe\",\n",
    "    \"APPINSIGHTS_INSTRUMENTATIONKEY\": \"f0cd5280-7f75-4c2e-9e92-93bc75b8a8c4\",\n",
    "    \"APPINSIGHTS_ConnectionString\": \"InstrumentationKey=f0cd5280-7f75-4c2e-9e92-93bc75b8a8c4\",\n",
    "    \"KEY_VAULT_URI\": \"https://kv-tradinglead.vault.azure.net/\",\n",
    "    \"TelemetryPropApp\": \"TradingLead - Backend Function App\",\n",
    "    \"TelemetryPropEnv\": \"local\",\n",
    "    \"TelemetryPropVersion\": \"1.0.0\",\n",
    "    \"TelemetryPropService\": \"TradingLead - General Service\",\n",
    "    \"SCHEDULE_CRON_FOR_ACCESS_TOKEN_GENERATOR\": \"0 * * * * *\"\n",
    "  },\n",
    "  \"Host\": {\n",
    "    \"CORS\": \"http://localhost:3000\",\n",
    "    \"CORSCredentials\": True\n",
    "  }\n",
    "}\n",
    "\n",
    "import azure.functions as func\n",
    "import os\n",
    "import json\n",
    "import sys\n",
    "\n",
    "module_path = os.path.abspath(os.path.join('..'))\n",
    "if module_path not in sys.path:\n",
    "    sys.path.append(module_path)\n",
    "\n",
    "\n",
    "# Set the environment variables\n",
    "for key, value in config['Values'].items():\n",
    "    os.environ[key] = value\n",
    "\n",
    "# Verify the environment variables are set\n",
    "for key in config['Values'].keys():\n",
    "    print(f'{key}: {os.getenv(key)}')\n"
   ]
  },
  {
   "cell_type": "code",
   "execution_count": 3,
   "metadata": {},
   "outputs": [
    {
     "name": "stderr",
     "output_type": "stream",
     "text": [
      "DeprecationWarning: Explicitly using instrumentation key isdeprecated. Please use a connection string instead.\n",
      "DeprecationWarning: Explicitly using instrumentation key isdeprecated. Please use a connection string instead.\n",
      "DeprecationWarning: Explicitly using instrumentation key isdeprecated. Please use a connection string instead.\n"
     ]
    }
   ],
   "source": [
    "import datetime\n",
    "import azure.functions as func\n",
    "from SharedCode.Repository.Logger.logger_service import LoggerService\n",
    "from SharedCode.Utils.constants import Constants\n",
    "from SharedCode.Utils.utility import FunctionUtils\n",
    "from TimerTriggerForAccessToken.access_token_generator_runner import access_token_generator_runner"
   ]
  },
  {
   "cell_type": "code",
   "execution_count": 4,
   "metadata": {},
   "outputs": [],
   "source": [
    "operation_id = \"RandomOperationId\"\n",
    "\n",
    "tel_props = {\n",
    "        Constants.SERVICE : Constants.access_token_generator_service,\n",
    "        Constants.operation_id : operation_id,\n",
    "    }"
   ]
  },
  {
   "cell_type": "code",
   "execution_count": 6,
   "metadata": {},
   "outputs": [],
   "source": [
    "access_token_generator_runner(tel_props)"
   ]
  },
  {
   "cell_type": "code",
   "execution_count": null,
   "metadata": {},
   "outputs": [],
   "source": []
  }
 ],
 "metadata": {
  "kernelspec": {
   "display_name": "Python 3",
   "language": "python",
   "name": "python3"
  },
  "language_info": {
   "codemirror_mode": {
    "name": "ipython",
    "version": 3
   },
   "file_extension": ".py",
   "mimetype": "text/x-python",
   "name": "python",
   "nbconvert_exporter": "python",
   "pygments_lexer": "ipython3",
   "version": "3.11.6"
  }
 },
 "nbformat": 4,
 "nbformat_minor": 2
}
